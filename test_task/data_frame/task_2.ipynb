{
 "cells": [
  {
   "cell_type": "code",
   "execution_count": 37,
   "id": "initial_id",
   "metadata": {
    "collapsed": true,
    "ExecuteTime": {
     "end_time": "2024-03-15T20:48:33.149922Z",
     "start_time": "2024-03-15T20:48:33.146767Z"
    }
   },
   "outputs": [],
   "source": [
    "# Импортируем библиотеки\n",
    "import pyspark # noqa\n",
    "from pyspark.sql import SparkSession\n",
    "from pyspark.sql.functions import col, explode_outer"
   ]
  },
  {
   "cell_type": "code",
   "outputs": [],
   "source": [
    "# Создаем точку входа в Spark API\n",
    "spark = SparkSession.builder \\\n",
    "    .appName(\"DataFrame_Test\") \\\n",
    "    .getOrCreate()"
   ],
   "metadata": {
    "collapsed": false,
    "ExecuteTime": {
     "end_time": "2024-03-15T20:35:32.333536Z",
     "start_time": "2024-03-15T20:35:32.324909Z"
    }
   },
   "id": "8b06052eb0743c8c",
   "execution_count": 14
  },
  {
   "cell_type": "code",
   "outputs": [],
   "source": [
    "# Создаем Датафрейм с продуктами:\n",
    "# id - идентификатор продукта, \n",
    "# product_name - название продукта\n",
    "data_for_products = spark.createDataFrame([\n",
    "    (1, 'Apple'),\n",
    "    (2, 'Banana'),\n",
    "    (3, 'Orange'),\n",
    "    (4, 'Carrot'),\n",
    "    (5, 'Lettuce'),\n",
    "    (6, 'Tomato'),\n",
    "    (7, 'Potato'),\n",
    "    (8, 'Broccoli'),\n",
    "    (9, 'Grapes'),\n",
    "    (10, 'Strawberry')],\n",
    "    ['id', 'product_name', ]\n",
    ")"
   ],
   "metadata": {
    "collapsed": false,
    "ExecuteTime": {
     "end_time": "2024-03-15T20:35:33.421225Z",
     "start_time": "2024-03-15T20:35:33.378133Z"
    }
   },
   "id": "65f375a1195982aa",
   "execution_count": 15
  },
  {
   "cell_type": "code",
   "outputs": [
    {
     "name": "stdout",
     "output_type": "stream",
     "text": [
      "+---+------------+\n",
      "| id|product_name|\n",
      "+---+------------+\n",
      "|  1|       Apple|\n",
      "|  2|      Banana|\n",
      "|  3|      Orange|\n",
      "|  4|      Carrot|\n",
      "|  5|     Lettuce|\n",
      "|  6|      Tomato|\n",
      "|  7|      Potato|\n",
      "|  8|    Broccoli|\n",
      "|  9|      Grapes|\n",
      "| 10|  Strawberry|\n",
      "+---+------------+\n"
     ]
    }
   ],
   "source": [
    "data_for_products.show()"
   ],
   "metadata": {
    "collapsed": false,
    "ExecuteTime": {
     "end_time": "2024-03-15T20:35:51.447485Z",
     "start_time": "2024-03-15T20:35:46.534601Z"
    }
   },
   "id": "920d39da5926ea5",
   "execution_count": 16
  },
  {
   "cell_type": "code",
   "outputs": [],
   "source": [
    "# Создаем Датафрейм с категориями:\n",
    "# id - идентификатор категории, \n",
    "# category_name - название категории\n",
    "data_for_categories = spark.createDataFrame([\n",
    "    (1, 'Fruits'),\n",
    "    (2, 'Vegetables'),\n",
    "    (3, 'Berries'),\n",
    "    (4, 'Root Vegetables'),\n",
    "    (5, 'Leafy Greens'),\n",
    "    (6, 'Citrus Fruits'),\n",
    "    (7, 'Tubers'),\n",
    "    (8, 'Tree Fruits'),\n",
    "    (9, 'Climbing Plants'),\n",
    "    (10, 'Allium Vegetables'), ],\n",
    "    ['id', 'category_name', ]\n",
    ")"
   ],
   "metadata": {
    "collapsed": false,
    "ExecuteTime": {
     "end_time": "2024-03-15T20:35:55.921722Z",
     "start_time": "2024-03-15T20:35:55.885496Z"
    }
   },
   "id": "3b84f8bc29bafe5",
   "execution_count": 17
  },
  {
   "cell_type": "code",
   "outputs": [
    {
     "name": "stdout",
     "output_type": "stream",
     "text": [
      "+---+-----------------+\n",
      "| id|    category_name|\n",
      "+---+-----------------+\n",
      "|  1|           Fruits|\n",
      "|  2|       Vegetables|\n",
      "|  3|          Berries|\n",
      "|  4|  Root Vegetables|\n",
      "|  5|     Leafy Greens|\n",
      "|  6|    Citrus Fruits|\n",
      "|  7|           Tubers|\n",
      "|  8|      Tree Fruits|\n",
      "|  9|  Climbing Plants|\n",
      "| 10|Allium Vegetables|\n",
      "+---+-----------------+\n"
     ]
    }
   ],
   "source": [
    "data_for_categories.show()"
   ],
   "metadata": {
    "collapsed": false,
    "ExecuteTime": {
     "end_time": "2024-03-15T20:36:09.801244Z",
     "start_time": "2024-03-15T20:36:04.815900Z"
    }
   },
   "id": "ae9cafcf335fefdb",
   "execution_count": 18
  },
  {
   "cell_type": "code",
   "outputs": [],
   "source": [
    "# Создаем Датафрейм со Связями первых двух Датафреймов:\n",
    "# id_product - идентификатор продукта, \n",
    "# id_categories - идентификатор категории\n",
    "\n",
    "# Для удобства сделаем данные со связями отдельно\n",
    "data = [\n",
    "    (1, [1]), # -- Apple -> Fruits\n",
    "    (2, [1, 8]), # -- Banana -> Fruits & Tree Fruits\n",
    "    (3, [1, 6, 8]), # -- Orange -> Citrus Fruits\n",
    "    (4, [2, 4]), # -- Carrot -> Vegetables\n",
    "    (5, []), # -- Lettuce\n",
    "    (6, [8]), # -- Tomato -> Tree Fruits\n",
    "    (7, []), # -- Potato\n",
    "    (8, [2]), # -- Broccoli -> Vegetables\n",
    "    (9, [3, 9]), # -- Grapes -> Berries\n",
    "    (10, [3]) # -- Strawberry -> Berries\n",
    "]\n",
    "\n",
    "# Делаем DataFrame\n",
    "data_for_connect = spark.createDataFrame(\n",
    "    data,\n",
    "    [\"id_product\", \"id_category\"]\n",
    ")"
   ],
   "metadata": {
    "collapsed": false,
    "ExecuteTime": {
     "end_time": "2024-03-15T20:46:36.627665Z",
     "start_time": "2024-03-15T20:46:36.593972Z"
    }
   },
   "id": "b2e7287a522244c",
   "execution_count": 35
  },
  {
   "cell_type": "code",
   "outputs": [
    {
     "name": "stdout",
     "output_type": "stream",
     "text": [
      "+----------+-----------+\n",
      "|id_product|id_category|\n",
      "+----------+-----------+\n",
      "|         1|        [1]|\n",
      "|         2|     [1, 8]|\n",
      "|         3|  [1, 6, 8]|\n",
      "|         4|     [2, 4]|\n",
      "|         5|         []|\n",
      "|         6|        [8]|\n",
      "|         7|         []|\n",
      "|         8|        [2]|\n",
      "|         9|     [3, 9]|\n",
      "|        10|        [3]|\n",
      "+----------+-----------+\n"
     ]
    }
   ],
   "source": [
    "data_for_connect.show()\n"
   ],
   "metadata": {
    "collapsed": false,
    "ExecuteTime": {
     "end_time": "2024-03-15T20:46:54.255036Z",
     "start_time": "2024-03-15T20:46:49.475156Z"
    }
   },
   "id": "d02f6e7fd2aa2d74",
   "execution_count": 36
  },
  {
   "cell_type": "code",
   "outputs": [],
   "source": [
    "# Получаем все пары \"Имя продукта - Имя категории\"\n",
    "pairs_of_data = data_for_connect.select(\n",
    "    col('id_product'),\n",
    "    explode_outer(col('id_category')) \\\n",
    "        .alias('id_category')\n",
    ")"
   ],
   "metadata": {
    "collapsed": false,
    "ExecuteTime": {
     "end_time": "2024-03-15T21:02:42.833151Z",
     "start_time": "2024-03-15T21:02:42.817297Z"
    }
   },
   "id": "b2d512228bdfac1e",
   "execution_count": 57
  },
  {
   "cell_type": "code",
   "outputs": [
    {
     "name": "stdout",
     "output_type": "stream",
     "text": [
      "+----------+-----------+\n",
      "|id_product|id_category|\n",
      "+----------+-----------+\n",
      "|         1|          1|\n",
      "|         2|          1|\n",
      "|         2|          8|\n",
      "|         3|          1|\n",
      "|         3|          6|\n",
      "|         3|          8|\n",
      "|         4|          2|\n",
      "|         4|          4|\n",
      "|         5|       NULL|\n",
      "|         6|          8|\n",
      "|         7|       NULL|\n",
      "|         8|          2|\n",
      "|         9|          3|\n",
      "|         9|          9|\n",
      "|        10|          3|\n",
      "+----------+-----------+\n"
     ]
    }
   ],
   "source": [
    "pairs_of_data.show()"
   ],
   "metadata": {
    "collapsed": false,
    "ExecuteTime": {
     "end_time": "2024-03-15T20:58:41.594211Z",
     "start_time": "2024-03-15T20:58:36.565285Z"
    }
   },
   "id": "2a0d5c37e3ba98ec",
   "execution_count": 52
  },
  {
   "cell_type": "code",
   "outputs": [],
   "source": [
    "# У нас все равно высвечиваются пустые продукты без категории.\n",
    "# Сделаем фильтр на isNotNull()\n",
    "pairs_of_data_filter = pairs_of_data.filter(\n",
    "    pairs_of_data.id_category.isNotNull()\n",
    ")"
   ],
   "metadata": {
    "collapsed": false,
    "ExecuteTime": {
     "end_time": "2024-03-15T21:02:29.107613Z",
     "start_time": "2024-03-15T21:02:29.097679Z"
    }
   },
   "id": "59723502c9affb02",
   "execution_count": 55
  },
  {
   "cell_type": "code",
   "outputs": [
    {
     "name": "stdout",
     "output_type": "stream",
     "text": [
      "+----------+-----------+\n",
      "|id_product|id_category|\n",
      "+----------+-----------+\n",
      "|         1|          1|\n",
      "|         2|          1|\n",
      "|         2|          8|\n",
      "|         3|          1|\n",
      "|         3|          6|\n",
      "|         3|          8|\n",
      "|         4|          2|\n",
      "|         4|          4|\n",
      "|         6|          8|\n",
      "|         8|          2|\n",
      "|         9|          3|\n",
      "|         9|          9|\n",
      "|        10|          3|\n",
      "+----------+-----------+\n"
     ]
    }
   ],
   "source": [
    "pairs_of_data_filter.show()"
   ],
   "metadata": {
    "collapsed": false,
    "ExecuteTime": {
     "end_time": "2024-03-15T21:02:38.472037Z",
     "start_time": "2024-03-15T21:02:33.611265Z"
    }
   },
   "id": "ae83c17efe1d16c1",
   "execution_count": 56
  },
  {
   "cell_type": "code",
   "outputs": [],
   "source": [
    "# Получилось вывести все пары \"Имя продукта - Имя категории\" без NULL.\n",
    "# Теперь получим имена всех продуктов, у которых нет категорий\n",
    "empty_categories = pairs_of_data.filter(\n",
    "    col('id_category').isNull()\n",
    ").select('id_product')"
   ],
   "metadata": {
    "collapsed": false,
    "ExecuteTime": {
     "end_time": "2024-03-15T21:04:13.398501Z",
     "start_time": "2024-03-15T21:04:13.381946Z"
    }
   },
   "id": "e1c5125646394353",
   "execution_count": 61
  },
  {
   "cell_type": "code",
   "outputs": [
    {
     "name": "stdout",
     "output_type": "stream",
     "text": [
      "+----------+\n",
      "|id_product|\n",
      "+----------+\n",
      "|         5|\n",
      "|         7|\n",
      "+----------+\n"
     ]
    }
   ],
   "source": [
    "empty_categories.show()"
   ],
   "metadata": {
    "collapsed": false,
    "ExecuteTime": {
     "end_time": "2024-03-15T21:04:19.158393Z",
     "start_time": "2024-03-15T21:04:14.454897Z"
    }
   },
   "id": "605b531447dcaeef",
   "execution_count": 62
  },
  {
   "cell_type": "markdown",
   "source": [
    "# P.S\n",
    "Это было интересно, тяжко и увлекательно. Я Pyscpark до этого не особо трогал, так как думал, что без знания Java я его не запущу. Но я смог, через боль и слезы))"
   ],
   "metadata": {
    "collapsed": false
   },
   "id": "b212891766f9fe21"
  },
  {
   "cell_type": "code",
   "outputs": [],
   "source": [],
   "metadata": {
    "collapsed": false
   },
   "id": "737ea0c9f49b81a3"
  }
 ],
 "metadata": {
  "kernelspec": {
   "display_name": "Python 3",
   "language": "python",
   "name": "python3"
  },
  "language_info": {
   "codemirror_mode": {
    "name": "ipython",
    "version": 2
   },
   "file_extension": ".py",
   "mimetype": "text/x-python",
   "name": "python",
   "nbconvert_exporter": "python",
   "pygments_lexer": "ipython2",
   "version": "2.7.6"
  }
 },
 "nbformat": 4,
 "nbformat_minor": 5
}
